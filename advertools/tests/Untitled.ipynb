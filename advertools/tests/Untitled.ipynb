{
 "cells": [
  {
   "cell_type": "code",
   "execution_count": 1,
   "metadata": {},
   "outputs": [],
   "source": [
    "from __future__ import print_function\n",
    "from IPython.display import display\n",
    "import ipywidgets as widgets"
   ]
  },
  {
   "cell_type": "code",
   "execution_count": 5,
   "metadata": {},
   "outputs": [
    {
     "name": "stdout",
     "output_type": "stream",
     "text": [
      "Register a callback to execute when the button is clicked.\n",
      "\n",
      "        The callback will be called with one argument, the clicked button\n",
      "        widget instance.\n",
      "\n",
      "        Parameters\n",
      "        ----------\n",
      "        remove: bool (optional)\n",
      "            Set to true to remove the callback from the list of callbacks.\n",
      "        \n"
     ]
    }
   ],
   "source": [
    "print(widgets.Button.on_click.__doc__)"
   ]
  },
  {
   "cell_type": "code",
   "execution_count": 11,
   "metadata": {},
   "outputs": [
    {
     "data": {
      "application/vnd.jupyter.widget-view+json": {
       "model_id": "48a7f4b18f764251ba3cf38aad7cc2b7",
       "version_major": 2,
       "version_minor": 0
      },
      "text/html": [
       "<p>Failed to display Jupyter Widget of type <code>Button</code>.</p>\n",
       "<p>\n",
       "  If you're reading this message in the Jupyter Notebook or JupyterLab Notebook, it may mean\n",
       "  that the widgets JavaScript is still loading. If this message persists, it\n",
       "  likely means that the widgets JavaScript library is either not installed or\n",
       "  not enabled. See the <a href=\"https://ipywidgets.readthedocs.io/en/stable/user_install.html\">Jupyter\n",
       "  Widgets Documentation</a> for setup instructions.\n",
       "</p>\n",
       "<p>\n",
       "  If you're reading this message in another frontend (for example, a static\n",
       "  rendering on GitHub or <a href=\"https://nbviewer.jupyter.org/\">NBViewer</a>),\n",
       "  it may mean that your frontend doesn't currently support widgets.\n",
       "</p>\n"
      ],
      "text/plain": [
       "Button(description='click me', style=ButtonStyle())"
      ]
     },
     "metadata": {},
     "output_type": "display_data"
    }
   ],
   "source": [
    "button = widgets.Button(description='click me')\n",
    "button"
   ]
  },
  {
   "cell_type": "code",
   "execution_count": 4,
   "metadata": {},
   "outputs": [
    {
     "data": {
      "application/vnd.jupyter.widget-view+json": {
       "model_id": "f100bea720ad4f6abe6fcdd966a19a3f",
       "version_major": 2,
       "version_minor": 0
      },
      "text/html": [
       "<p>Failed to display Jupyter Widget of type <code>Button</code>.</p>\n",
       "<p>\n",
       "  If you're reading this message in the Jupyter Notebook or JupyterLab Notebook, it may mean\n",
       "  that the widgets JavaScript is still loading. If this message persists, it\n",
       "  likely means that the widgets JavaScript library is either not installed or\n",
       "  not enabled. See the <a href=\"https://ipywidgets.readthedocs.io/en/stable/user_install.html\">Jupyter\n",
       "  Widgets Documentation</a> for setup instructions.\n",
       "</p>\n",
       "<p>\n",
       "  If you're reading this message in another frontend (for example, a static\n",
       "  rendering on GitHub or <a href=\"https://nbviewer.jupyter.org/\">NBViewer</a>),\n",
       "  it may mean that your frontend doesn't currently support widgets.\n",
       "</p>\n"
      ],
      "text/plain": [
       "Button(description='Click Me!', style=ButtonStyle())"
      ]
     },
     "metadata": {},
     "output_type": "display_data"
    }
   ],
   "source": [
    "from IPython.display import display\n",
    "button = widgets.Button(description=\"Click Me!\")\n",
    "display(button)\n",
    "\n",
    "def on_button_clicked(b):\n",
    "    print(\"Button clicked.\")\n",
    "\n",
    "button.on_click(on_button_clicked)"
   ]
  },
  {
   "cell_type": "code",
   "execution_count": 11,
   "metadata": {},
   "outputs": [
    {
     "name": "stdout",
     "output_type": "stream",
     "text": [
      "EN_SEM_US_Toyota\n",
      "EN_SEM_US_Honda\n",
      "EN_SEM_US_BMW\n",
      "====\n",
      "EN_SEM_CA_Toyota\n",
      "EN_SEM_CA_Honda\n",
      "EN_SEM_CA_BMW\n",
      "====\n",
      "EN_SEM_FR_Toyota\n",
      "EN_SEM_FR_Honda\n",
      "EN_SEM_FR_BMW\n",
      "====\n",
      "EN_SEM_UK_Toyota\n",
      "EN_SEM_UK_Honda\n",
      "EN_SEM_UK_BMW\n",
      "====\n",
      "EN_GDN_US_Toyota\n",
      "EN_GDN_US_Honda\n",
      "EN_GDN_US_BMW\n",
      "====\n",
      "EN_GDN_CA_Toyota\n",
      "EN_GDN_CA_Honda\n",
      "EN_GDN_CA_BMW\n",
      "====\n",
      "EN_GDN_FR_Toyota\n",
      "EN_GDN_FR_Honda\n",
      "EN_GDN_FR_BMW\n",
      "====\n",
      "EN_GDN_UK_Toyota\n",
      "EN_GDN_UK_Honda\n",
      "EN_GDN_UK_BMW\n",
      "====\n",
      "EN_YTB_US_Toyota\n",
      "EN_YTB_US_Honda\n",
      "EN_YTB_US_BMW\n",
      "====\n",
      "EN_YTB_CA_Toyota\n",
      "EN_YTB_CA_Honda\n",
      "EN_YTB_CA_BMW\n",
      "====\n",
      "EN_YTB_FR_Toyota\n",
      "EN_YTB_FR_Honda\n",
      "EN_YTB_FR_BMW\n",
      "====\n",
      "EN_YTB_UK_Toyota\n",
      "EN_YTB_UK_Honda\n",
      "EN_YTB_UK_BMW\n",
      "====\n",
      "FR_SEM_US_Toyota\n",
      "FR_SEM_US_Honda\n",
      "FR_SEM_US_BMW\n",
      "====\n",
      "FR_SEM_CA_Toyota\n",
      "FR_SEM_CA_Honda\n",
      "FR_SEM_CA_BMW\n",
      "====\n",
      "FR_SEM_FR_Toyota\n",
      "FR_SEM_FR_Honda\n",
      "FR_SEM_FR_BMW\n",
      "====\n",
      "FR_SEM_UK_Toyota\n",
      "FR_SEM_UK_Honda\n",
      "FR_SEM_UK_BMW\n",
      "====\n",
      "FR_GDN_US_Toyota\n",
      "FR_GDN_US_Honda\n",
      "FR_GDN_US_BMW\n",
      "====\n",
      "FR_GDN_CA_Toyota\n",
      "FR_GDN_CA_Honda\n",
      "FR_GDN_CA_BMW\n",
      "====\n",
      "FR_GDN_FR_Toyota\n",
      "FR_GDN_FR_Honda\n",
      "FR_GDN_FR_BMW\n",
      "====\n",
      "FR_GDN_UK_Toyota\n",
      "FR_GDN_UK_Honda\n",
      "FR_GDN_UK_BMW\n",
      "====\n",
      "FR_YTB_US_Toyota\n",
      "FR_YTB_US_Honda\n",
      "FR_YTB_US_BMW\n",
      "====\n",
      "FR_YTB_CA_Toyota\n",
      "FR_YTB_CA_Honda\n",
      "FR_YTB_CA_BMW\n",
      "====\n",
      "FR_YTB_FR_Toyota\n",
      "FR_YTB_FR_Honda\n",
      "FR_YTB_FR_BMW\n",
      "====\n",
      "FR_YTB_UK_Toyota\n",
      "FR_YTB_UK_Honda\n",
      "FR_YTB_UK_BMW\n",
      "====\n"
     ]
    }
   ],
   "source": [
    "for lang in ['EN', 'FR']:\n",
    "    for network in ['SEM', 'GDN', 'YTB']:\n",
    "        for loc in ['US', 'CA', 'FR', 'UK']:\n",
    "            for product in ['Toyota', 'Honda', 'BMW']:\n",
    "                print('_'.join([lang, network, loc, product]))\n",
    "            print('====')"
   ]
  },
  {
   "cell_type": "code",
   "execution_count": 5,
   "metadata": {},
   "outputs": [],
   "source": [
    "import tinkerer"
   ]
  }
 ],
 "metadata": {
  "hide_input": false,
  "kernelspec": {
   "display_name": "Python 3",
   "language": "python",
   "name": "python3"
  },
  "language_info": {
   "codemirror_mode": {
    "name": "ipython",
    "version": 3
   },
   "file_extension": ".py",
   "mimetype": "text/x-python",
   "name": "python",
   "nbconvert_exporter": "python",
   "pygments_lexer": "ipython3",
   "version": "3.6.3"
  },
  "varInspector": {
   "cols": {
    "lenName": 16,
    "lenType": 16,
    "lenVar": 40
   },
   "kernels_config": {
    "python": {
     "delete_cmd_postfix": "",
     "delete_cmd_prefix": "del ",
     "library": "var_list.py",
     "varRefreshCmd": "print(var_dic_list())"
    },
    "r": {
     "delete_cmd_postfix": ") ",
     "delete_cmd_prefix": "rm(",
     "library": "var_list.r",
     "varRefreshCmd": "cat(var_dic_list()) "
    }
   },
   "types_to_exclude": [
    "module",
    "function",
    "builtin_function_or_method",
    "instance",
    "_Feature"
   ],
   "window_display": false
  }
 },
 "nbformat": 4,
 "nbformat_minor": 2
}
